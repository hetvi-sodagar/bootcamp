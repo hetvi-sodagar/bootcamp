{
  "nbformat": 4,
  "nbformat_minor": 0,
  "metadata": {
    "colab": {
      "provenance": [],
      "collapsed_sections": [
        "xLYk76cq8Pam"
      ],
      "authorship_tag": "ABX9TyN1lEZZvjWoKpSPD0ypnsq0",
      "include_colab_link": true
    },
    "kernelspec": {
      "name": "python3",
      "display_name": "Python 3"
    },
    "language_info": {
      "name": "python"
    }
  },
  "cells": [
    {
      "cell_type": "markdown",
      "metadata": {
        "id": "view-in-github",
        "colab_type": "text"
      },
      "source": [
        "<a href=\"https://colab.research.google.com/github/hetvi-sodagar/bootcamp/blob/main/HU_DS_May_June.ipynb\" target=\"_parent\"><img src=\"https://colab.research.google.com/assets/colab-badge.svg\" alt=\"Open In Colab\"/></a>"
      ]
    },
    {
      "cell_type": "markdown",
      "source": [
        "# <b>May 27th Notes</b>\n",
        "# <b>Big title </b>\n",
        "## **Substitle or section title**\n",
        "### *subsection*\n",
        "#### another section\n",
        "##### smallest section title\n",
        "\n",
        "```\n",
        "print(\"I am an HBCU Scholar!\")\n",
        "```\n",
        "\n",
        "$$\\sum_{n=1}^{10} \\log \\frac{6n+7j}{3n}$$\n",
        "\n",
        "* This is some bullet text\n",
        "* Adding additional text\n",
        "* last point of interest"
      ],
      "metadata": {
        "id": "ZBRl19JGalxk"
      }
    },
    {
      "cell_type": "code",
      "execution_count": null,
      "metadata": {
        "colab": {
          "base_uri": "https://localhost:8080/"
        },
        "id": "-unXvayxXm2C",
        "outputId": "95cf6566-ce99-4126-f011-748b16b14a35"
      },
      "outputs": [
        {
          "output_type": "stream",
          "name": "stdout",
          "text": [
            "Hello, World!\n"
          ]
        }
      ],
      "source": [
        "# Let's create first print statement\n",
        "print(\"Hello, World!\")"
      ]
    },
    {
      "cell_type": "code",
      "source": [
        "#Let's print the value of pi from the math module\n",
        "# import the math module\n",
        "import math\n",
        "#print the value of pi from the math module\n",
        "print(math.pi)"
      ],
      "metadata": {
        "colab": {
          "base_uri": "https://localhost:8080/"
        },
        "id": "ZHYTkBByfFIA",
        "outputId": "08548cf7-b3c8-4ebd-9e41-380321cb10a3"
      },
      "execution_count": null,
      "outputs": [
        {
          "output_type": "stream",
          "name": "stdout",
          "text": [
            "3.141592653589793\n"
          ]
        }
      ]
    },
    {
      "cell_type": "code",
      "source": [
        "# create a variable with the value of pi from the math module\n",
        "pi = math.pi"
      ],
      "metadata": {
        "id": "uSvgcWkHfdKT"
      },
      "execution_count": null,
      "outputs": []
    },
    {
      "cell_type": "code",
      "source": [
        "# print the value stored in the variable pi\n",
        "print(pi)"
      ],
      "metadata": {
        "colab": {
          "base_uri": "https://localhost:8080/"
        },
        "id": "0ybUnZo1f5eX",
        "outputId": "ae64fe0d-08b4-4fca-88a4-43e0afacbe42"
      },
      "execution_count": null,
      "outputs": [
        {
          "output_type": "stream",
          "name": "stdout",
          "text": [
            "3.141592653589793\n"
          ]
        }
      ]
    },
    {
      "cell_type": "code",
      "source": [
        "#print the value stored in pi\n",
        "pi"
      ],
      "metadata": {
        "colab": {
          "base_uri": "https://localhost:8080/"
        },
        "id": "_HnppIxigeTR",
        "outputId": "21f89c5e-64f3-41aa-c880-ebd9fd4832de"
      },
      "execution_count": null,
      "outputs": [
        {
          "output_type": "execute_result",
          "data": {
            "text/plain": [
              "3.141592653589793"
            ]
          },
          "metadata": {},
          "execution_count": 29
        }
      ]
    },
    {
      "cell_type": "code",
      "source": [
        "\"\"\" Let's print the statement the value of pi is\n",
        "with the value stored in the variable pi. \"\"\"\n",
        "print(\" The value of pi is: \", pi)"
      ],
      "metadata": {
        "colab": {
          "base_uri": "https://localhost:8080/"
        },
        "id": "8Qaywv8tg5PU",
        "outputId": "94958bc1-52d7-442f-c110-8cebb9fa6ed2"
      },
      "execution_count": null,
      "outputs": [
        {
          "output_type": "stream",
          "name": "stdout",
          "text": [
            " The value of pi is:  3.141592653589793\n"
          ]
        }
      ]
    },
    {
      "cell_type": "code",
      "source": [
        "\"\"\" Let's print the statement the value of pi is\n",
        "with the value stored in the variable pi. \"\"\"\n",
        "print(\" The value of pi is: \\n\", pi)"
      ],
      "metadata": {
        "colab": {
          "base_uri": "https://localhost:8080/"
        },
        "id": "wbzm0RO6lPhh",
        "outputId": "e2db4d2b-543b-4fb1-940d-8d266816383e"
      },
      "execution_count": null,
      "outputs": [
        {
          "output_type": "stream",
          "name": "stdout",
          "text": [
            " The value of pi is: \n",
            " 3.141592653589793\n"
          ]
        }
      ]
    },
    {
      "cell_type": "code",
      "source": [
        "#using input statement\n",
        "name = input(print(\"Please enter your first name:\"))\n",
        "print(name)"
      ],
      "metadata": {
        "id": "sWBZP8dytP-p"
      },
      "execution_count": null,
      "outputs": []
    },
    {
      "cell_type": "code",
      "source": [
        "name = \"Hetvi\"\n",
        "age = \"16\"\n",
        "print(\"My name is:\", name, \"and I am:\", age, \"years old.\")"
      ],
      "metadata": {
        "colab": {
          "base_uri": "https://localhost:8080/"
        },
        "id": "Q3yKn1axxpsW",
        "outputId": "4280cd44-7fad-4926-deb3-39384573c46e"
      },
      "execution_count": null,
      "outputs": [
        {
          "output_type": "stream",
          "name": "stdout",
          "text": [
            "My name is: Hetvi and I am: 16 years old.\n"
          ]
        }
      ]
    },
    {
      "cell_type": "code",
      "source": [
        "name = input(print(\"What is your name:\"))\n",
        "age = input(print(\"What is your age?\"))\n",
        "print(\"My name is:\", name, \"and I am:\", age, \"years old.\")"
      ],
      "metadata": {
        "colab": {
          "base_uri": "https://localhost:8080/"
        },
        "id": "IyHRCc-9xTCE",
        "outputId": "1dc6d6fd-6466-4433-d731-4cd25598927f"
      },
      "execution_count": null,
      "outputs": [
        {
          "output_type": "stream",
          "name": "stdout",
          "text": [
            "What is your name:\n",
            "NoneHetvi\n",
            "What is your age?\n",
            "None16\n",
            "My name is: Hetvi and I am: 16 years old.\n"
          ]
        }
      ]
    },
    {
      "cell_type": "markdown",
      "source": [
        "# <b>May 28th Notes</b>\n",
        "\n"
      ],
      "metadata": {
        "id": "t_0yyau-qi2l"
      }
    },
    {
      "cell_type": "code",
      "source": [
        "a = -12\n",
        "b = 5.7\n",
        "c = 2\n",
        "\n",
        "a,b,c"
      ],
      "metadata": {
        "colab": {
          "base_uri": "https://localhost:8080/"
        },
        "id": "8ChzLORa1RxN",
        "outputId": "5706d6e1-b22b-485f-a801-95393f8703f7"
      },
      "execution_count": null,
      "outputs": [
        {
          "output_type": "execute_result",
          "data": {
            "text/plain": [
              "(-12, 5.7, 2)"
            ]
          },
          "metadata": {},
          "execution_count": 17
        }
      ]
    },
    {
      "cell_type": "code",
      "source": [
        "# addition + operator\n",
        "print(\"a + b = \", a+b)\n",
        "print(\"b + a = \", b+a)"
      ],
      "metadata": {
        "colab": {
          "base_uri": "https://localhost:8080/"
        },
        "id": "jX2rumlb1bqK",
        "outputId": "330f69d4-b831-4539-fbc0-47c1ffe3bcc6"
      },
      "execution_count": null,
      "outputs": [
        {
          "output_type": "stream",
          "name": "stdout",
          "text": [
            "a + b =  -6.3\n",
            "b + a =  -6.3\n"
          ]
        }
      ]
    },
    {
      "cell_type": "code",
      "source": [
        "# subtraction - operator\n",
        "print(\"a - b = \", a-b)\n",
        "print(\"b - a = \", b-a)"
      ],
      "metadata": {
        "colab": {
          "base_uri": "https://localhost:8080/"
        },
        "id": "p3qEFzaB1kQg",
        "outputId": "ea9a9007-f9a6-43c5-bdc3-56387e65a506"
      },
      "execution_count": null,
      "outputs": [
        {
          "output_type": "stream",
          "name": "stdout",
          "text": [
            "a - b =  -17.7\n",
            "b - a =  17.7\n"
          ]
        }
      ]
    },
    {
      "cell_type": "code",
      "source": [
        "# multiplication * operator\n",
        "print(\"a * b = \", a*b)"
      ],
      "metadata": {
        "colab": {
          "base_uri": "https://localhost:8080/"
        },
        "id": "lD3SInph16T1",
        "outputId": "800c324d-544d-470e-9342-f7277898a7b3"
      },
      "execution_count": null,
      "outputs": [
        {
          "output_type": "stream",
          "name": "stdout",
          "text": [
            "a * b =  -68.4\n"
          ]
        }
      ]
    },
    {
      "cell_type": "code",
      "source": [
        "# exponents ** operator\n",
        "a = 2\n",
        "b = 5\n",
        "print(\"a ** b = \", a**b)\n",
        "print(\"b ** a = \", b**a)"
      ],
      "metadata": {
        "colab": {
          "base_uri": "https://localhost:8080/"
        },
        "id": "LuDuQm7v2JZX",
        "outputId": "7058764d-2968-4fd6-822e-0cc39307db1e"
      },
      "execution_count": null,
      "outputs": [
        {
          "output_type": "stream",
          "name": "stdout",
          "text": [
            "a ** b =  32\n",
            "b ** a =  25\n"
          ]
        }
      ]
    },
    {
      "cell_type": "code",
      "source": [
        "# division / operator\n",
        "print(\" a / b = \", a/b)\n",
        "print(\" b / a = \", b/a)"
      ],
      "metadata": {
        "colab": {
          "base_uri": "https://localhost:8080/"
        },
        "id": "NxpRBUh93OXn",
        "outputId": "2d0b3f69-fd2f-4d17-bec0-74052e4e876a"
      },
      "execution_count": null,
      "outputs": [
        {
          "output_type": "stream",
          "name": "stdout",
          "text": [
            " a / b =  -2.1052631578947367\n",
            " b / a =  -0.47500000000000003\n"
          ]
        }
      ]
    },
    {
      "cell_type": "code",
      "source": [
        "# divsion // operator\n",
        "a = 12\n",
        "b = 5\n",
        "print(\" a // b = \", a//b)"
      ],
      "metadata": {
        "colab": {
          "base_uri": "https://localhost:8080/"
        },
        "id": "1x_QCyUT3jnx",
        "outputId": "f6cb0631-d3c2-4a2e-fd70-3f7bb59c0666"
      },
      "execution_count": null,
      "outputs": [
        {
          "output_type": "stream",
          "name": "stdout",
          "text": [
            " a // b =  2\n"
          ]
        }
      ]
    },
    {
      "cell_type": "code",
      "source": [
        "name = \"Hetvi\"\n",
        "age = \"16\"\n",
        "print(\"My name is\", name, \"and I am\", age, \"years old.\" )"
      ],
      "metadata": {
        "colab": {
          "base_uri": "https://localhost:8080/"
        },
        "id": "UeEWmFdl4vbd",
        "outputId": "450b215e-96ad-40d3-e967-e2a2141dd69d"
      },
      "execution_count": null,
      "outputs": [
        {
          "output_type": "stream",
          "name": "stdout",
          "text": [
            "My name is Hetvi and I am 16 years old.\n"
          ]
        }
      ]
    },
    {
      "cell_type": "code",
      "source": [
        "print(f\"My name is {name} and I am {age} years old.\")"
      ],
      "metadata": {
        "colab": {
          "base_uri": "https://localhost:8080/"
        },
        "id": "e8St3K2m5A9U",
        "outputId": "e036391e-a708-4696-aea7-6dd96c7892f5"
      },
      "execution_count": null,
      "outputs": [
        {
          "output_type": "stream",
          "name": "stdout",
          "text": [
            "My name is Hetvi and I am 16 years old.\n"
          ]
        }
      ]
    },
    {
      "cell_type": "code",
      "source": [
        "# Equal to \"==\" operator\n",
        "a = 5\n",
        "b = 5\n",
        "c=7\n",
        "print (\"a == b is\", a==b)\n",
        "print(\"a == c is\", a==c)"
      ],
      "metadata": {
        "colab": {
          "base_uri": "https://localhost:8080/"
        },
        "id": "MprIQFjO5Poq",
        "outputId": "1d6fd55c-0b10-4c62-82fe-62b05a96b792"
      },
      "execution_count": null,
      "outputs": [
        {
          "output_type": "stream",
          "name": "stdout",
          "text": [
            "a == b is True\n",
            "a == c is False\n"
          ]
        }
      ]
    },
    {
      "cell_type": "code",
      "source": [
        "a = 5\n",
        "b = -5\n",
        "c= a - b\n",
        "d = b - a\n",
        "print (\"a - b is\", c)\n",
        "print(\"b - a is\", d)\n",
        "\n",
        "print(\"Is a - b equal to b - a?\", c == d)"
      ],
      "metadata": {
        "colab": {
          "base_uri": "https://localhost:8080/"
        },
        "id": "it5yOrmF5t05",
        "outputId": "070f9205-8887-4be6-99de-0c8b5d59039f"
      },
      "execution_count": null,
      "outputs": [
        {
          "output_type": "stream",
          "name": "stdout",
          "text": [
            "a - b is 10\n",
            "b - a is -10\n",
            "Is a - b equal to b - a? False\n"
          ]
        }
      ]
    },
    {
      "cell_type": "markdown",
      "source": [
        "200 + (17 * (2^7 -(2*6)))/4"
      ],
      "metadata": {
        "id": "MMWY7b1w62Yz"
      }
    },
    {
      "cell_type": "code",
      "source": [
        "# Pemdas\n",
        "200 + (17 * (2**7 - (2*6)))/4"
      ],
      "metadata": {
        "colab": {
          "base_uri": "https://localhost:8080/"
        },
        "id": "9MsoCwPz6xE3",
        "outputId": "60e4c625-de62-4613-aaf8-ee9d594e3117"
      },
      "execution_count": null,
      "outputs": [
        {
          "output_type": "execute_result",
          "data": {
            "text/plain": [
              "693.0"
            ]
          },
          "metadata": {},
          "execution_count": 31
        }
      ]
    },
    {
      "cell_type": "code",
      "source": [
        "200 + 17 * 2 ** 7 - 2 * 6 / 4"
      ],
      "metadata": {
        "colab": {
          "base_uri": "https://localhost:8080/"
        },
        "id": "Hn2tLM2Z7RwX",
        "outputId": "40fad399-37fb-49b9-9097-fe15c7a7a3e0"
      },
      "execution_count": null,
      "outputs": [
        {
          "output_type": "execute_result",
          "data": {
            "text/plain": [
              "2373.0"
            ]
          },
          "metadata": {},
          "execution_count": 32
        }
      ]
    },
    {
      "cell_type": "code",
      "source": [
        "# \"%\" operator\n",
        "\"\"\"(it gives you the remainder so 6/3- no remainders\n",
        "and 3/6- 3 remainder since 3 is at the top)\"\"\"\n",
        "a = 6\n",
        "b = 3\n",
        "print(\"a % b = \", a%b)\n",
        "print(\"b % a =\", b%a)\n"
      ],
      "metadata": {
        "colab": {
          "base_uri": "https://localhost:8080/"
        },
        "id": "FWOwxVTU8dIS",
        "outputId": "29c52293-8ba3-4cf7-94a3-b6eefe06dd63"
      },
      "execution_count": null,
      "outputs": [
        {
          "output_type": "stream",
          "name": "stdout",
          "text": [
            "a % b =  0\n",
            "b % a = 3\n"
          ]
        }
      ]
    },
    {
      "cell_type": "code",
      "source": [
        "# we only want to find values that are divisible by 2\n",
        "x = 5\n",
        "print(\" x % 2 = \", x%2)"
      ],
      "metadata": {
        "colab": {
          "base_uri": "https://localhost:8080/"
        },
        "id": "NzpWrbpv9qRM",
        "outputId": "4b2b5d0b-1b97-4f50-fd57-137abd1d8b98"
      },
      "execution_count": null,
      "outputs": [
        {
          "output_type": "stream",
          "name": "stdout",
          "text": [
            " x % 2 =  1\n"
          ]
        }
      ]
    },
    {
      "cell_type": "markdown",
      "source": [
        "# <b>May 30 Notes </b>"
      ],
      "metadata": {
        "id": "xLYk76cq8Pam"
      }
    },
    {
      "cell_type": "markdown",
      "source": [
        "Boolean is either true or false 1 or 0  and equal to is \"==\""
      ],
      "metadata": {
        "id": "RnfDcswp8fZO"
      }
    },
    {
      "cell_type": "markdown",
      "source": [
        "Not equal to is \"!=\""
      ],
      "metadata": {
        "id": "LMjdQeUz89Ho"
      }
    },
    {
      "cell_type": "code",
      "source": [
        "if 7 != 10:\n",
        "  print(\"The above statement is true\")\n",
        "print(\"This is not related to the if statement\")"
      ],
      "metadata": {
        "colab": {
          "base_uri": "https://localhost:8080/"
        },
        "id": "1QVlWG_4UK2L",
        "outputId": "b288bbac-b1e1-4373-c450-9743d6f2ca42"
      },
      "execution_count": null,
      "outputs": [
        {
          "output_type": "stream",
          "name": "stdout",
          "text": [
            "The above statement is true\n",
            "This is not related to the if statement\n"
          ]
        }
      ]
    },
    {
      "cell_type": "code",
      "source": [
        "grade = 90\n",
        "if grade > 70:\n",
        "  print(\"Congrats you passed the class\")\n",
        "if grade < 70:\n",
        "  print(\"Sorry you didn't pass the class\")"
      ],
      "metadata": {
        "colab": {
          "base_uri": "https://localhost:8080/"
        },
        "id": "yEGxGAy0UiQi",
        "outputId": "f223c560-1b93-4ab8-a927-f3f7f21c45a3"
      },
      "execution_count": null,
      "outputs": [
        {
          "output_type": "stream",
          "name": "stdout",
          "text": [
            "Congrats you passed the class\n"
          ]
        }
      ]
    },
    {
      "cell_type": "code",
      "source": [
        "my_bool = True\n",
        "if my_bool:\n",
        "  print(\"The value of my_bool is true\")\n",
        "else:\n",
        "  print(\"The value of my_bool is false\")"
      ],
      "metadata": {
        "colab": {
          "base_uri": "https://localhost:8080/"
        },
        "id": "CEl2JNK9U_9t",
        "outputId": "0359d89d-0743-4bcb-86c5-e4589e3d2285"
      },
      "execution_count": null,
      "outputs": [
        {
          "output_type": "stream",
          "name": "stdout",
          "text": [
            "The value of my_bool is true\n"
          ]
        }
      ]
    },
    {
      "cell_type": "code",
      "source": [
        "if True and True:\n",
        "  print(\"True\")"
      ],
      "metadata": {
        "colab": {
          "base_uri": "https://localhost:8080/"
        },
        "id": "xSL69vkSVbin",
        "outputId": "cfeff643-879c-47c1-fb02-5851808393fc"
      },
      "execution_count": null,
      "outputs": [
        {
          "output_type": "stream",
          "name": "stdout",
          "text": [
            "True\n"
          ]
        }
      ]
    },
    {
      "cell_type": "markdown",
      "source": [
        "#<b> June 2nd Notes </b>"
      ],
      "metadata": {
        "id": "Iwoac8l1SHnD"
      }
    },
    {
      "cell_type": "markdown",
      "source": [
        "While loop: runs as long as a conditioj is true\n",
        "\n",
        "must declare a counting variable\n",
        "\n",
        "must increment the counting variable"
      ],
      "metadata": {
        "id": "6tzKF7VTSdJK"
      }
    },
    {
      "cell_type": "markdown",
      "source": [
        "For loop: runs a predetermined amount of times\n",
        "\n",
        "counting variable is automatically declares\n",
        "\n"
      ],
      "metadata": {
        "id": "qIvPKGJ7SmD6"
      }
    },
    {
      "cell_type": "code",
      "source": [
        "count = 0 # count variable\n",
        "while count < 5:\n",
        "  print (\"Hello\")\n",
        "  count = count + 1"
      ],
      "metadata": {
        "colab": {
          "base_uri": "https://localhost:8080/"
        },
        "id": "ChzjG4DcSwwD",
        "outputId": "7973aa21-79e5-4ca3-df53-4aefbb43d065"
      },
      "execution_count": null,
      "outputs": [
        {
          "output_type": "stream",
          "name": "stdout",
          "text": [
            "Hello\n",
            "Hello\n",
            "Hello\n",
            "Hello\n",
            "Hello\n"
          ]
        }
      ]
    },
    {
      "cell_type": "markdown",
      "source": [
        "Enter numbers to sum, enter q to quit > 1\n",
        "\n",
        "Enter numbers to sum, enter q to quit > 2\n",
        "\n",
        "Enter numbers to sum, enter q to quit > 3\n",
        "\n",
        "Enter numbers to sum, enter q to quit > 4\n",
        "\n",
        "Enter numbers to sum, enter q to quit > q 10"
      ],
      "metadata": {
        "id": "6yXg9U4MbsNA"
      }
    },
    {
      "cell_type": "markdown",
      "source": [
        "# <b> June 3rd notes</b>"
      ],
      "metadata": {
        "id": "SrsJ4Es6Z0o6"
      }
    },
    {
      "cell_type": "code",
      "source": [
        "for i in range (8):\n",
        "    for j in range (8):\n",
        "      if i % 2 == 0: # Check if the row is even\n",
        "          if j % 2 == 0: # Check if the column is even\n",
        "              print (\"X\", end =\"\")\n",
        "          else:\n",
        "              print(\"O\", end=\"\")\n",
        "      else : # If the row is odd\n",
        "          if j % 2 == 0: # Check if the column is even\n",
        "              print(\"O\", end=\"\")\n",
        "          else:\n",
        "              print(\"X\", end=\"\")\n",
        "    print()"
      ],
      "metadata": {
        "colab": {
          "base_uri": "https://localhost:8080/"
        },
        "id": "2lkSnXxMZ4wv",
        "outputId": "701d80f7-d686-48c2-d671-50efc55cf16e"
      },
      "execution_count": 9,
      "outputs": [
        {
          "output_type": "stream",
          "name": "stdout",
          "text": [
            "XOXOXOXO\n",
            "OXOXOXOX\n",
            "XOXOXOXO\n",
            "OXOXOXOX\n",
            "XOXOXOXO\n",
            "OXOXOXOX\n",
            "XOXOXOXO\n",
            "OXOXOXOX\n"
          ]
        }
      ]
    }
  ]
}