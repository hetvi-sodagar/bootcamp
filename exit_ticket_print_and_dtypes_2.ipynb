{
  "nbformat": 4,
  "nbformat_minor": 0,
  "metadata": {
    "colab": {
      "provenance": [],
      "include_colab_link": true
    },
    "kernelspec": {
      "name": "python3",
      "display_name": "Python 3"
    },
    "language_info": {
      "name": "python"
    }
  },
  "cells": [
    {
      "cell_type": "markdown",
      "metadata": {
        "id": "view-in-github",
        "colab_type": "text"
      },
      "source": [
        "<a href=\"https://colab.research.google.com/github/hetvi-sodagar/bootcamp/blob/main/exit_ticket_print_and_dtypes_2.ipynb\" target=\"_parent\"><img src=\"https://colab.research.google.com/assets/colab-badge.svg\" alt=\"Open In Colab\"/></a>"
      ]
    },
    {
      "cell_type": "markdown",
      "metadata": {
        "id": "F1gmTOXrOz8o"
      },
      "source": [
        "# Data Types in Python\n",
        "\n",
        "This notebook is aimed at shedding some light on the different data types in Python. This shall form a strong foundation for your programming and Data Science journey."
      ]
    },
    {
      "cell_type": "markdown",
      "metadata": {
        "id": "7QqpOZ_eOz8s"
      },
      "source": [
        "## Numeric Data Type"
      ]
    },
    {
      "cell_type": "markdown",
      "metadata": {
        "id": "LUutoZFPOz8u"
      },
      "source": [
        "You can check the data type of an object using the `type()` command.\n",
        "The syntax looks like this: `type(variableName)`"
      ]
    },
    {
      "cell_type": "markdown",
      "source": [
        "### Your turn now.\n",
        "Store the following into three different objects and check their data types:\n",
        "* 2\n",
        "* 1086J\n",
        "* 3.14567"
      ],
      "metadata": {
        "id": "OIUTZNCXP5i5"
      }
    },
    {
      "cell_type": "code",
      "execution_count": null,
      "metadata": {
        "id": "NDyorQr3Oz8y",
        "colab": {
          "base_uri": "https://localhost:8080/"
        },
        "outputId": "c9557141-8bd6-45b5-c843-ff2c515ccdf2"
      },
      "outputs": [
        {
          "output_type": "stream",
          "name": "stdout",
          "text": [
            "<class 'int'>\n"
          ]
        }
      ],
      "source": [
        "# Create an object with a value of 2\n",
        "a = 2\n",
        "\n",
        "# Check the data type\n",
        "print(type(a))\n"
      ]
    },
    {
      "cell_type": "code",
      "execution_count": null,
      "metadata": {
        "id": "yCnIeFx8UOQJ",
        "colab": {
          "base_uri": "https://localhost:8080/"
        },
        "outputId": "0ea44274-1c78-4ead-99cb-9a67509d17d1"
      },
      "outputs": [
        {
          "output_type": "stream",
          "name": "stdout",
          "text": [
            "<class 'complex'>\n"
          ]
        }
      ],
      "source": [
        "# Create an object with a value of 1086J\n",
        "d = 1086J\n",
        "\n",
        "# Check the data type\n",
        "print(type(d))\n"
      ]
    },
    {
      "cell_type": "code",
      "execution_count": null,
      "metadata": {
        "id": "QCsczuMrUOZg",
        "colab": {
          "base_uri": "https://localhost:8080/"
        },
        "outputId": "3b099b2f-fa43-4fcc-fcb8-c8267f251302"
      },
      "outputs": [
        {
          "output_type": "stream",
          "name": "stdout",
          "text": [
            "<class 'float'>\n"
          ]
        }
      ],
      "source": [
        "# Create an object with a value of 3.14567\n",
        "j = 3.14567\n",
        "\n",
        "# Check the data type\n",
        "print(type(j))\n"
      ]
    },
    {
      "cell_type": "markdown",
      "metadata": {
        "id": "PI5eLU4mOz80"
      },
      "source": [
        "## String Data Type"
      ]
    },
    {
      "cell_type": "markdown",
      "metadata": {
        "id": "a-eIVjF9Oz80"
      },
      "source": [
        "String Data type usually is used to store text. The data to be stored in this data type is enclosed between single ('') or double (\"\") quotes.\n",
        "Recall that you printed your name in the previous Notebook. That was string data type.\n",
        "Let's look at an example."
      ]
    },
    {
      "cell_type": "code",
      "execution_count": null,
      "metadata": {
        "id": "dUYETGSROz80",
        "colab": {
          "base_uri": "https://localhost:8080/"
        },
        "outputId": "e65c6f16-29f5-46b2-82b5-af35104e11bd"
      },
      "outputs": [
        {
          "output_type": "stream",
          "name": "stdout",
          "text": [
            "Hetvi Sodagar\n"
          ]
        }
      ],
      "source": [
        "# Printing your name\n",
        "My_Name = \"Hetvi Sodagar\"\n",
        "\n",
        "# Check the results of the My_Name variable\n",
        "print (My_Name)"
      ]
    },
    {
      "cell_type": "code",
      "execution_count": null,
      "metadata": {
        "id": "vYHxbnk8Oz81",
        "colab": {
          "base_uri": "https://localhost:8080/"
        },
        "outputId": "4c70d451-693f-4587-fee7-c91bb9096a57"
      },
      "outputs": [
        {
          "output_type": "stream",
          "name": "stdout",
          "text": [
            "<class 'str'>\n"
          ]
        }
      ],
      "source": [
        "# Check the data type of the My_Name variable\n",
        "print(type(My_Name))"
      ]
    },
    {
      "cell_type": "markdown",
      "source": [
        "You can combine string methods with print statements to request information from a user. This uses the `input` statement and gives users a blinking cursor to enter information.\n",
        "\n",
        "Complex print statements are also possible where it prints string text, the contents of a variable, and even perform small operations in the statement and return the results. In the example below we will create a variable called `my_name` and use the input method to ask the user to input their name. From there we can print a statement saying hello, the user's entered name, and some punctuation. In the next print statement we can use the `type()` method to print the data type of the variable `my_name`."
      ],
      "metadata": {
        "id": "8-U9oGeoR9Mb"
      }
    },
    {
      "cell_type": "code",
      "execution_count": null,
      "metadata": {
        "id": "g138tt3WOz81",
        "colab": {
          "base_uri": "https://localhost:8080/"
        },
        "outputId": "71c43c34-817e-4137-a162-43116a56f8e1"
      },
      "outputs": [
        {
          "output_type": "stream",
          "name": "stdout",
          "text": [
            "Please enter your name: Hetvi Sodagar\n",
            "Greetings Hetvi Sodagar !\n",
            "Your name is a  <class 'str'>\n"
          ]
        }
      ],
      "source": [
        "# Your turn to play around now.\n",
        "# Use the input statement to ask a user to enter their name\n",
        "# Syntax looks like this: descriptiveVariableName = input(\"Question to be asked? \")\n",
        "name = input(\"Please enter your name: \")\n",
        "\n",
        "# Use a print statement to check your input. Add a greeting to your statement.\n",
        "# Syntax looks like this: print(\"Greeting\", descriptiveVariableName, \"!\")\n",
        "print (\"Greetings\", name, \"!\")\n",
        "\n",
        "# Now use a print statement to tell the user the data type.\n",
        "# Syntax looks like this: print(\"Your name is a \",type(descriptiveVariableName))\n",
        "print(\"Your name is a \", type(name))\n"
      ]
    },
    {
      "cell_type": "markdown",
      "metadata": {
        "id": "5bEdKCA0Oz81"
      },
      "source": [
        "Various functions can be performed using strings like searching within a string, conversion to lowercase/uppercase, count, length, splitting, replacing, trimming, partitioning etc."
      ]
    },
    {
      "cell_type": "code",
      "execution_count": null,
      "metadata": {
        "id": "d3CVN5izOz81",
        "colab": {
          "base_uri": "https://localhost:8080/"
        },
        "outputId": "46de7f35-2384-4b85-c39f-04cc149b5e43"
      },
      "outputs": [
        {
          "output_type": "stream",
          "name": "stdout",
          "text": [
            "13\n"
          ]
        }
      ],
      "source": [
        "# Let's check how many characters does your name contain.\n",
        "# Syntax: len(variableName)\n",
        "print(len(name))\n"
      ]
    },
    {
      "cell_type": "code",
      "execution_count": null,
      "metadata": {
        "id": "q-yeOolwOz82",
        "colab": {
          "base_uri": "https://localhost:8080/"
        },
        "outputId": "40d43ef0-f706-4d77-fe67-a95c7844259b"
      },
      "outputs": [
        {
          "output_type": "execute_result",
          "data": {
            "text/plain": [
              "True"
            ]
          },
          "metadata": {},
          "execution_count": 72
        }
      ],
      "source": [
        "# Let's see if My_Name is all Caps or not.\n",
        "# isupper() returns True if all the letters are Capitals, False if atleast one letter in in lower case.\n",
        "# Syntax: variableName.isupper()\n",
        "name.isupper()"
      ]
    },
    {
      "cell_type": "code",
      "execution_count": null,
      "metadata": {
        "id": "RQfxPz_KOz82"
      },
      "outputs": [],
      "source": [
        "# Let's convert My_Name to all caps.\n",
        "# Syntax: variableName = variableName.upper()\n",
        "name = name.upper()\n",
        "\n",
        "# Call the variable using the variable name.\n",
        "print(name)\n"
      ]
    },
    {
      "cell_type": "code",
      "execution_count": null,
      "metadata": {
        "id": "CnxJVlo0Oz82"
      },
      "outputs": [],
      "source": [
        "# Check the uppercase again,\n",
        "# Now the output of isupper() changes to True.\n",
        "name.isupper()\n"
      ]
    },
    {
      "cell_type": "code",
      "execution_count": null,
      "metadata": {
        "id": "HHKRD0eKOz83",
        "colab": {
          "base_uri": "https://localhost:8080/"
        },
        "outputId": "1eb2caee-2221-4675-aebf-a45735d3b6da"
      },
      "outputs": [
        {
          "output_type": "stream",
          "name": "stdout",
          "text": [
            "I love to play tennis\n",
            "I LOVE TO PLAY TENNIS\n",
            "I love to play tennis\n",
            "I Love To Play Tennis\n"
          ]
        }
      ],
      "source": [
        "# Your turn to try it now.\n",
        "# Write a sentence and store it into an object.\n",
        "# Don't forget quotation marks for strings\n",
        "new_sentence= \"I love to play tennis\"\n",
        "\n",
        "# Use a print statement to view your new_sentence\n",
        "print(new_sentence)\n",
        "# Use the .upper() method in a print statement to print the upper case sentence\n",
        "# HINT: Use a print statement, your variable name, and the .upper() method\n",
        "print(new_sentence.upper())\n",
        "\n",
        "\n",
        "# Use the .capitalize() method to print the sentence with the first word capitalized.\n",
        "print(new_sentence.capitalize())\n",
        "\n",
        "# Use the .title() method to print the sentence with the first letter of each word capitalized.\n",
        "print(new_sentence.title())\n"
      ]
    },
    {
      "cell_type": "code",
      "execution_count": null,
      "metadata": {
        "id": "_RU2iVcdOz83",
        "colab": {
          "base_uri": "https://localhost:8080/"
        },
        "outputId": "c6c439ed-cf83-4067-e4ac-c48c1ba35706"
      },
      "outputs": [
        {
          "output_type": "stream",
          "name": "stdout",
          "text": [
            "<class 'str'>\n"
          ]
        }
      ],
      "source": [
        "# Check the data type of the object you just created.\n",
        "print(type(new_sentence))"
      ]
    },
    {
      "cell_type": "code",
      "execution_count": null,
      "metadata": {
        "id": "zTwyEacgOz83",
        "colab": {
          "base_uri": "https://localhost:8080/"
        },
        "outputId": "adbbad01-6fd5-4c7e-f371-b4aabf779a7d"
      },
      "outputs": [
        {
          "output_type": "execute_result",
          "data": {
            "text/plain": [
              "False"
            ]
          },
          "metadata": {},
          "execution_count": 75
        }
      ],
      "source": [
        "# Check if it is all caps or not.\n",
        "# Syntax: variableName.isupper()\n",
        "new_sentence.isupper()\n"
      ]
    },
    {
      "cell_type": "code",
      "execution_count": null,
      "metadata": {
        "id": "OFuwYxoHOz83",
        "colab": {
          "base_uri": "https://localhost:8080/"
        },
        "outputId": "1c20276b-d5b5-44f5-d0d3-4b1489ed4695"
      },
      "outputs": [
        {
          "output_type": "execute_result",
          "data": {
            "text/plain": [
              "False"
            ]
          },
          "metadata": {},
          "execution_count": 76
        }
      ],
      "source": [
        "# Challenge - Check if it is all lower case or not.\n",
        "# Use the example above to complete the challenge question\n",
        "new_sentence.islower()"
      ]
    },
    {
      "cell_type": "code",
      "execution_count": null,
      "metadata": {
        "id": "gQTsgka1Oz84",
        "colab": {
          "base_uri": "https://localhost:8080/"
        },
        "outputId": "6b0840e0-8ea9-4499-de31-eb1ec4a5ea4a"
      },
      "outputs": [
        {
          "output_type": "stream",
          "name": "stdout",
          "text": [
            "I LOVE TO PLAY TENNIS\n"
          ]
        }
      ],
      "source": [
        "# Challenge - Convert your object into all caps.\n",
        "new_sentence = new_sentence.upper()\n",
        "print(new_sentence)\n"
      ]
    },
    {
      "cell_type": "code",
      "execution_count": null,
      "metadata": {
        "id": "FfURhkuaOz84",
        "colab": {
          "base_uri": "https://localhost:8080/"
        },
        "outputId": "4e05a4f5-c556-4c92-bbf0-37fc5ad9fc3d"
      },
      "outputs": [
        {
          "output_type": "stream",
          "name": "stdout",
          "text": [
            "i love to play tennis\n"
          ]
        }
      ],
      "source": [
        "# Challenge - Convert your object into all lower case.\n",
        "new_sentence = new_sentence.lower()\n",
        "print(new_sentence)\n"
      ]
    },
    {
      "cell_type": "markdown",
      "metadata": {
        "id": "zpLbuwP6Oz84"
      },
      "source": [
        "## Boolean Data Type"
      ]
    },
    {
      "cell_type": "markdown",
      "metadata": {
        "id": "IXJ4iCMgOz84"
      },
      "source": [
        "The boolean data type has just two values, i.e., True or False."
      ]
    },
    {
      "cell_type": "code",
      "execution_count": null,
      "metadata": {
        "id": "Qzolj8lPOz85"
      },
      "outputs": [],
      "source": [
        "# Create two variables, one with a value of True, one with a value of False\n",
        "new_game = True\n",
        "old_game = False\n"
      ]
    },
    {
      "cell_type": "code",
      "execution_count": null,
      "metadata": {
        "id": "53_SQLshOz85",
        "colab": {
          "base_uri": "https://localhost:8080/"
        },
        "outputId": "a7fed51d-d2b5-44c3-8ac2-92f6c64ad386"
      },
      "outputs": [
        {
          "output_type": "stream",
          "name": "stdout",
          "text": [
            "<class 'bool'> <class 'bool'>\n"
          ]
        }
      ],
      "source": [
        "# Check the data type of your new variables\n",
        "# HINT: you can check multiple items by separating the statements with a comma\n",
        "print(type(new_game),type(old_game))\n"
      ]
    },
    {
      "cell_type": "markdown",
      "metadata": {
        "id": "JnXKU29fOz85"
      },
      "source": [
        "## Data Type Conversions"
      ]
    },
    {
      "cell_type": "markdown",
      "metadata": {
        "id": "xxFOfebXOz85"
      },
      "source": [
        "As explained earlier, data should be stored in correct form so that it can be manipulated efficiently later.\n",
        "Quite a lot of times, data is not stored correctly or it gets imported incorrectly.\n",
        "In such cases, data needs to be converted to its correct type so that it can be optimally used in our analysis.\n",
        "Thus, let's look at data type conversion exercises to get you comfortable with the process."
      ]
    },
    {
      "cell_type": "code",
      "execution_count": null,
      "metadata": {
        "id": "8aGHMkW7Oz86"
      },
      "outputs": [],
      "source": [
        "# Create an object containing an integer.\n",
        "num=3"
      ]
    },
    {
      "cell_type": "code",
      "execution_count": null,
      "metadata": {
        "id": "-dQdECzdOz86",
        "colab": {
          "base_uri": "https://localhost:8080/"
        },
        "outputId": "18b8c195-9e04-4a9c-cd52-ebb8c6d73430"
      },
      "outputs": [
        {
          "output_type": "stream",
          "name": "stdout",
          "text": [
            "<class 'int'>\n"
          ]
        }
      ],
      "source": [
        "# Check the data type of your new object\n",
        "print(type(num))\n"
      ]
    },
    {
      "cell_type": "code",
      "execution_count": null,
      "metadata": {
        "id": "T30wagKUOz86"
      },
      "outputs": [],
      "source": [
        "# You want to use the value 1 as text. So let's convert it.\n",
        "# Syntax: variableName = str(variableName)\n",
        "num = str(num)\n"
      ]
    },
    {
      "cell_type": "code",
      "execution_count": null,
      "metadata": {
        "id": "FMEvdM1WOz86",
        "colab": {
          "base_uri": "https://localhost:8080/"
        },
        "outputId": "9ab93820-01ae-4343-9d29-252a4d793f8a"
      },
      "outputs": [
        {
          "output_type": "stream",
          "name": "stdout",
          "text": [
            "<class 'str'>\n"
          ]
        }
      ],
      "source": [
        "# Check the data type of your new object again.\n",
        "print(type(num))"
      ]
    },
    {
      "cell_type": "code",
      "execution_count": null,
      "metadata": {
        "id": "8j-uQXBaOz9S",
        "colab": {
          "base_uri": "https://localhost:8080/"
        },
        "outputId": "a4be8d5d-427c-4851-8114-a31638bfea34"
      },
      "outputs": [
        {
          "output_type": "stream",
          "name": "stdout",
          "text": [
            "<class 'str'>\n"
          ]
        }
      ],
      "source": [
        "# Exercise for you. Store the number 123456 as string.\n",
        "num2 = \"123456\"\n",
        "# Check the data type\n",
        "print(type(num2))\n"
      ]
    },
    {
      "cell_type": "code",
      "execution_count": null,
      "metadata": {
        "id": "b5CuVvSQOz9T",
        "colab": {
          "base_uri": "https://localhost:8080/"
        },
        "outputId": "474950ae-4b5f-4e07-b0cd-0370a0f028e2"
      },
      "outputs": [
        {
          "output_type": "stream",
          "name": "stdout",
          "text": [
            "<class 'str'>\n"
          ]
        }
      ],
      "source": [
        "# Let's do the opposite now.\n",
        "# Create a variable and assign a numeric value as a string\n",
        "# HINT: Any value inside of quotes is a string\n",
        "num3 = \"7\"\n",
        "# Check the data type of your variable\n",
        "print(type(num3))\n"
      ]
    },
    {
      "cell_type": "code",
      "execution_count": null,
      "metadata": {
        "id": "uomNdG-OOz9T",
        "colab": {
          "base_uri": "https://localhost:8080/"
        },
        "outputId": "d2be5573-64ec-47f1-e248-1fb882a8eddb"
      },
      "outputs": [
        {
          "output_type": "stream",
          "name": "stdout",
          "text": [
            "<class 'int'>\n"
          ]
        }
      ],
      "source": [
        "# Let's learn to convert string to integer now.\n",
        "# Syntax: variableName = int(variableName)\n",
        "num3 = int(num3)\n",
        "# Check the data type\n",
        "print(type(num3))\n"
      ]
    },
    {
      "cell_type": "code",
      "execution_count": null,
      "metadata": {
        "id": "p6c6Oj-oOz9T",
        "colab": {
          "base_uri": "https://localhost:8080/"
        },
        "outputId": "165f6142-0138-447f-9541-45268fe5c67c"
      },
      "outputs": [
        {
          "output_type": "stream",
          "name": "stdout",
          "text": [
            "<class 'float'>\n"
          ]
        }
      ],
      "source": [
        "# Let's convert a string to a float.\n",
        "# Syntax: variableName = float(variableName)\n",
        "num3 = float(num3)\n",
        "# Check the data type\n",
        "print(type(num3))"
      ]
    },
    {
      "cell_type": "markdown",
      "metadata": {
        "id": "9QBKh6rWOz9U"
      },
      "source": [
        "Good job so far!\n",
        "You can also try converting strings to boolean and vice versa.\n",
        "You could also try conversions from integers to float and float to integer.\n",
        "\n",
        "Python is an intuitive language, so by default it stores data into correct formats.\n",
        "But very often we come across data being stored incorrectly especially while importing."
      ]
    }
  ]
}